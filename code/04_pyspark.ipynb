{
 "cells": [
  {
   "cell_type": "code",
   "id": "1d62ebff-837b-4b56-ab69-5b92b66231c1",
   "metadata": {
    "ExecuteTime": {
     "end_time": "2024-11-16T14:41:16.616158Z",
     "start_time": "2024-11-16T14:41:16.587405Z"
    }
   },
   "source": [
    "import pyspark"
   ],
   "outputs": [
    {
     "ename": "ModuleNotFoundError",
     "evalue": "No module named 'typing.io'; 'typing' is not a package",
     "output_type": "error",
     "traceback": [
      "\u001B[1;31m---------------------------------------------------------------------------\u001B[0m",
      "\u001B[1;31mModuleNotFoundError\u001B[0m                       Traceback (most recent call last)",
      "Cell \u001B[1;32mIn[17], line 1\u001B[0m\n\u001B[1;32m----> 1\u001B[0m \u001B[38;5;28;01mimport\u001B[39;00m \u001B[38;5;21;01mpyspark\u001B[39;00m\n",
      "File \u001B[1;32mC:\\tools\\spark-3.3.2-bin-hadoop3\\python\\pyspark\\__init__.py:60\u001B[0m\n\u001B[0;32m     58\u001B[0m \u001B[38;5;28;01mfrom\u001B[39;00m \u001B[38;5;21;01mpyspark\u001B[39;00m\u001B[38;5;21;01m.\u001B[39;00m\u001B[38;5;21;01mstoragelevel\u001B[39;00m \u001B[38;5;28;01mimport\u001B[39;00m StorageLevel\n\u001B[0;32m     59\u001B[0m \u001B[38;5;28;01mfrom\u001B[39;00m \u001B[38;5;21;01mpyspark\u001B[39;00m\u001B[38;5;21;01m.\u001B[39;00m\u001B[38;5;21;01maccumulators\u001B[39;00m \u001B[38;5;28;01mimport\u001B[39;00m Accumulator, AccumulatorParam\n\u001B[1;32m---> 60\u001B[0m \u001B[38;5;28;01mfrom\u001B[39;00m \u001B[38;5;21;01mpyspark\u001B[39;00m\u001B[38;5;21;01m.\u001B[39;00m\u001B[38;5;21;01mbroadcast\u001B[39;00m \u001B[38;5;28;01mimport\u001B[39;00m Broadcast\n\u001B[0;32m     61\u001B[0m \u001B[38;5;28;01mfrom\u001B[39;00m \u001B[38;5;21;01mpyspark\u001B[39;00m\u001B[38;5;21;01m.\u001B[39;00m\u001B[38;5;21;01mserializers\u001B[39;00m \u001B[38;5;28;01mimport\u001B[39;00m MarshalSerializer, CPickleSerializer\n\u001B[0;32m     62\u001B[0m \u001B[38;5;28;01mfrom\u001B[39;00m \u001B[38;5;21;01mpyspark\u001B[39;00m\u001B[38;5;21;01m.\u001B[39;00m\u001B[38;5;21;01mtaskcontext\u001B[39;00m \u001B[38;5;28;01mimport\u001B[39;00m TaskContext, BarrierTaskContext, BarrierTaskInfo\n",
      "File \u001B[1;32mC:\\tools\\spark-3.3.2-bin-hadoop3\\python\\pyspark\\broadcast.py:38\u001B[0m\n\u001B[0;32m     23\u001B[0m \u001B[38;5;28;01mimport\u001B[39;00m \u001B[38;5;21;01mpickle\u001B[39;00m\n\u001B[0;32m     24\u001B[0m \u001B[38;5;28;01mfrom\u001B[39;00m \u001B[38;5;21;01mtyping\u001B[39;00m \u001B[38;5;28;01mimport\u001B[39;00m (\n\u001B[0;32m     25\u001B[0m     overload,\n\u001B[0;32m     26\u001B[0m     Any,\n\u001B[1;32m   (...)\u001B[0m\n\u001B[0;32m     36\u001B[0m     Union,\n\u001B[0;32m     37\u001B[0m )\n\u001B[1;32m---> 38\u001B[0m \u001B[38;5;28;01mfrom\u001B[39;00m \u001B[38;5;21;01mtyping\u001B[39;00m\u001B[38;5;21;01m.\u001B[39;00m\u001B[38;5;21;01mio\u001B[39;00m \u001B[38;5;28;01mimport\u001B[39;00m BinaryIO  \u001B[38;5;66;03m# type: ignore[import]\u001B[39;00m\n\u001B[0;32m     40\u001B[0m \u001B[38;5;28;01mfrom\u001B[39;00m \u001B[38;5;21;01mpyspark\u001B[39;00m\u001B[38;5;21;01m.\u001B[39;00m\u001B[38;5;21;01mjava_gateway\u001B[39;00m \u001B[38;5;28;01mimport\u001B[39;00m local_connect_and_auth\n\u001B[0;32m     41\u001B[0m \u001B[38;5;28;01mfrom\u001B[39;00m \u001B[38;5;21;01mpyspark\u001B[39;00m\u001B[38;5;21;01m.\u001B[39;00m\u001B[38;5;21;01mserializers\u001B[39;00m \u001B[38;5;28;01mimport\u001B[39;00m ChunkedStream, pickle_protocol\n",
      "\u001B[1;31mModuleNotFoundError\u001B[0m: No module named 'typing.io'; 'typing' is not a package"
     ]
    }
   ],
   "execution_count": 17
  },
  {
   "cell_type": "code",
   "id": "416edbce-2c8d-4838-baef-b1c2539d2568",
   "metadata": {
    "ExecuteTime": {
     "end_time": "2024-11-16T14:41:16.800955Z",
     "start_time": "2024-11-16T14:41:16.773007Z"
    }
   },
   "source": [
    "\n",
    "from pyspark.sql import SparkSession"
   ],
   "outputs": [
    {
     "ename": "ModuleNotFoundError",
     "evalue": "No module named 'typing.io'; 'typing' is not a package",
     "output_type": "error",
     "traceback": [
      "\u001B[1;31m---------------------------------------------------------------------------\u001B[0m",
      "\u001B[1;31mModuleNotFoundError\u001B[0m                       Traceback (most recent call last)",
      "Cell \u001B[1;32mIn[18], line 1\u001B[0m\n\u001B[1;32m----> 1\u001B[0m \u001B[38;5;28;01mfrom\u001B[39;00m \u001B[38;5;21;01mpyspark\u001B[39;00m\u001B[38;5;21;01m.\u001B[39;00m\u001B[38;5;21;01msql\u001B[39;00m \u001B[38;5;28;01mimport\u001B[39;00m SparkSession\n",
      "File \u001B[1;32mC:\\tools\\spark-3.3.2-bin-hadoop3\\python\\pyspark\\__init__.py:60\u001B[0m\n\u001B[0;32m     58\u001B[0m \u001B[38;5;28;01mfrom\u001B[39;00m \u001B[38;5;21;01mpyspark\u001B[39;00m\u001B[38;5;21;01m.\u001B[39;00m\u001B[38;5;21;01mstoragelevel\u001B[39;00m \u001B[38;5;28;01mimport\u001B[39;00m StorageLevel\n\u001B[0;32m     59\u001B[0m \u001B[38;5;28;01mfrom\u001B[39;00m \u001B[38;5;21;01mpyspark\u001B[39;00m\u001B[38;5;21;01m.\u001B[39;00m\u001B[38;5;21;01maccumulators\u001B[39;00m \u001B[38;5;28;01mimport\u001B[39;00m Accumulator, AccumulatorParam\n\u001B[1;32m---> 60\u001B[0m \u001B[38;5;28;01mfrom\u001B[39;00m \u001B[38;5;21;01mpyspark\u001B[39;00m\u001B[38;5;21;01m.\u001B[39;00m\u001B[38;5;21;01mbroadcast\u001B[39;00m \u001B[38;5;28;01mimport\u001B[39;00m Broadcast\n\u001B[0;32m     61\u001B[0m \u001B[38;5;28;01mfrom\u001B[39;00m \u001B[38;5;21;01mpyspark\u001B[39;00m\u001B[38;5;21;01m.\u001B[39;00m\u001B[38;5;21;01mserializers\u001B[39;00m \u001B[38;5;28;01mimport\u001B[39;00m MarshalSerializer, CPickleSerializer\n\u001B[0;32m     62\u001B[0m \u001B[38;5;28;01mfrom\u001B[39;00m \u001B[38;5;21;01mpyspark\u001B[39;00m\u001B[38;5;21;01m.\u001B[39;00m\u001B[38;5;21;01mtaskcontext\u001B[39;00m \u001B[38;5;28;01mimport\u001B[39;00m TaskContext, BarrierTaskContext, BarrierTaskInfo\n",
      "File \u001B[1;32mC:\\tools\\spark-3.3.2-bin-hadoop3\\python\\pyspark\\broadcast.py:38\u001B[0m\n\u001B[0;32m     23\u001B[0m \u001B[38;5;28;01mimport\u001B[39;00m \u001B[38;5;21;01mpickle\u001B[39;00m\n\u001B[0;32m     24\u001B[0m \u001B[38;5;28;01mfrom\u001B[39;00m \u001B[38;5;21;01mtyping\u001B[39;00m \u001B[38;5;28;01mimport\u001B[39;00m (\n\u001B[0;32m     25\u001B[0m     overload,\n\u001B[0;32m     26\u001B[0m     Any,\n\u001B[1;32m   (...)\u001B[0m\n\u001B[0;32m     36\u001B[0m     Union,\n\u001B[0;32m     37\u001B[0m )\n\u001B[1;32m---> 38\u001B[0m \u001B[38;5;28;01mfrom\u001B[39;00m \u001B[38;5;21;01mtyping\u001B[39;00m\u001B[38;5;21;01m.\u001B[39;00m\u001B[38;5;21;01mio\u001B[39;00m \u001B[38;5;28;01mimport\u001B[39;00m BinaryIO  \u001B[38;5;66;03m# type: ignore[import]\u001B[39;00m\n\u001B[0;32m     40\u001B[0m \u001B[38;5;28;01mfrom\u001B[39;00m \u001B[38;5;21;01mpyspark\u001B[39;00m\u001B[38;5;21;01m.\u001B[39;00m\u001B[38;5;21;01mjava_gateway\u001B[39;00m \u001B[38;5;28;01mimport\u001B[39;00m local_connect_and_auth\n\u001B[0;32m     41\u001B[0m \u001B[38;5;28;01mfrom\u001B[39;00m \u001B[38;5;21;01mpyspark\u001B[39;00m\u001B[38;5;21;01m.\u001B[39;00m\u001B[38;5;21;01mserializers\u001B[39;00m \u001B[38;5;28;01mimport\u001B[39;00m ChunkedStream, pickle_protocol\n",
      "\u001B[1;31mModuleNotFoundError\u001B[0m: No module named 'typing.io'; 'typing' is not a package"
     ]
    }
   ],
   "execution_count": 18
  },
  {
   "cell_type": "code",
   "id": "2606ef75-6100-418d-8444-346358e26f89",
   "metadata": {
    "ExecuteTime": {
     "end_time": "2024-11-16T14:41:17.230901Z",
     "start_time": "2024-11-16T14:41:17.222486Z"
    }
   },
   "source": [
    "spark = SparkSession.builder \\\n",
    "    .master(\"local[*]\") \\\n",
    "    .appName('test') \\\n",
    "    .getOrCreate()"
   ],
   "outputs": [
    {
     "ename": "NameError",
     "evalue": "name 'SparkSession' is not defined",
     "output_type": "error",
     "traceback": [
      "\u001B[1;31m---------------------------------------------------------------------------\u001B[0m",
      "\u001B[1;31mNameError\u001B[0m                                 Traceback (most recent call last)",
      "Cell \u001B[1;32mIn[19], line 1\u001B[0m\n\u001B[1;32m----> 1\u001B[0m spark \u001B[38;5;241m=\u001B[39m \u001B[43mSparkSession\u001B[49m\u001B[38;5;241m.\u001B[39mbuilder \\\n\u001B[0;32m      2\u001B[0m     \u001B[38;5;241m.\u001B[39mmaster(\u001B[38;5;124m\"\u001B[39m\u001B[38;5;124mlocal[*]\u001B[39m\u001B[38;5;124m\"\u001B[39m) \\\n\u001B[0;32m      3\u001B[0m     \u001B[38;5;241m.\u001B[39mappName(\u001B[38;5;124m'\u001B[39m\u001B[38;5;124mtest\u001B[39m\u001B[38;5;124m'\u001B[39m) \\\n\u001B[0;32m      4\u001B[0m     \u001B[38;5;241m.\u001B[39mgetOrCreate()\n",
      "\u001B[1;31mNameError\u001B[0m: name 'SparkSession' is not defined"
     ]
    }
   ],
   "execution_count": 19
  },
  {
   "cell_type": "code",
   "id": "de0b8e77-1aae-4a52-8ce3-79c24fe18fae",
   "metadata": {
    "ExecuteTime": {
     "end_time": "2024-11-16T14:41:18.123994Z",
     "start_time": "2024-11-16T14:41:18.121843Z"
    }
   },
   "source": "#!curl -o tripdata_2023-01.parquet https://d37ci6vzurychx.cloudfront.net/trip-data/fhvhv_tripdata_2023-01.parquet\n",
   "outputs": [],
   "execution_count": 20
  },
  {
   "cell_type": "code",
   "id": "e2cc7e8c-f45a-4699-9ca8-540e7c207233",
   "metadata": {
    "ExecuteTime": {
     "end_time": "2024-11-16T14:41:19.761907Z",
     "start_time": "2024-11-16T14:41:19.759845Z"
    }
   },
   "source": "parquet_file_path = 'tripdata_2023-01.parquet'",
   "outputs": [],
   "execution_count": 21
  },
  {
   "metadata": {
    "ExecuteTime": {
     "end_time": "2024-11-16T14:41:20.114538Z",
     "start_time": "2024-11-16T14:41:20.104946Z"
    }
   },
   "cell_type": "code",
   "source": "df = spark.read.parquet(parquet_file_path)",
   "id": "7ccaccf07753329",
   "outputs": [
    {
     "ename": "NameError",
     "evalue": "name 'spark' is not defined",
     "output_type": "error",
     "traceback": [
      "\u001B[1;31m---------------------------------------------------------------------------\u001B[0m",
      "\u001B[1;31mNameError\u001B[0m                                 Traceback (most recent call last)",
      "Cell \u001B[1;32mIn[22], line 1\u001B[0m\n\u001B[1;32m----> 1\u001B[0m df \u001B[38;5;241m=\u001B[39m \u001B[43mspark\u001B[49m\u001B[38;5;241m.\u001B[39mread\u001B[38;5;241m.\u001B[39mparquet(parquet_file_path)\n",
      "\u001B[1;31mNameError\u001B[0m: name 'spark' is not defined"
     ]
    }
   ],
   "execution_count": 22
  },
  {
   "metadata": {},
   "cell_type": "code",
   "source": "df.show(5)",
   "id": "aa9581ae6d7c9032",
   "outputs": [],
   "execution_count": null
  },
  {
   "metadata": {},
   "cell_type": "code",
   "source": "row_count = df.count()",
   "id": "b0e59a61e03856a6",
   "outputs": [],
   "execution_count": null
  },
  {
   "metadata": {
    "ExecuteTime": {
     "end_time": "2024-11-16T14:40:38.657861Z",
     "start_time": "2024-11-16T14:40:38.650113Z"
    }
   },
   "cell_type": "code",
   "source": "row_count",
   "id": "a79c5039fba649b7",
   "outputs": [
    {
     "ename": "NameError",
     "evalue": "name 'row_count' is not defined",
     "output_type": "error",
     "traceback": [
      "\u001B[1;31m---------------------------------------------------------------------------\u001B[0m",
      "\u001B[1;31mNameError\u001B[0m                                 Traceback (most recent call last)",
      "Cell \u001B[1;32mIn[9], line 1\u001B[0m\n\u001B[1;32m----> 1\u001B[0m \u001B[43mrow_count\u001B[49m\n",
      "\u001B[1;31mNameError\u001B[0m: name 'row_count' is not defined"
     ]
    }
   ],
   "execution_count": 9
  },
  {
   "metadata": {
    "ExecuteTime": {
     "end_time": "2024-11-16T14:40:38.684123Z",
     "start_time": "2024-11-16T14:40:38.676494Z"
    }
   },
   "cell_type": "code",
   "source": "first_100_rows = df.limit(100)",
   "id": "a5ce97b62e1270a4",
   "outputs": [
    {
     "ename": "NameError",
     "evalue": "name 'df' is not defined",
     "output_type": "error",
     "traceback": [
      "\u001B[1;31m---------------------------------------------------------------------------\u001B[0m",
      "\u001B[1;31mNameError\u001B[0m                                 Traceback (most recent call last)",
      "Cell \u001B[1;32mIn[10], line 1\u001B[0m\n\u001B[1;32m----> 1\u001B[0m first_100_rows \u001B[38;5;241m=\u001B[39m \u001B[43mdf\u001B[49m\u001B[38;5;241m.\u001B[39mlimit(\u001B[38;5;241m100\u001B[39m)\n",
      "\u001B[1;31mNameError\u001B[0m: name 'df' is not defined"
     ]
    }
   ],
   "execution_count": 10
  },
  {
   "metadata": {
    "ExecuteTime": {
     "end_time": "2024-11-16T14:40:38.705116Z",
     "start_time": "2024-11-16T14:40:38.697207Z"
    }
   },
   "cell_type": "code",
   "source": "first_100_rows.show(40)",
   "id": "c1e8143ad43e191b",
   "outputs": [
    {
     "ename": "NameError",
     "evalue": "name 'first_100_rows' is not defined",
     "output_type": "error",
     "traceback": [
      "\u001B[1;31m---------------------------------------------------------------------------\u001B[0m",
      "\u001B[1;31mNameError\u001B[0m                                 Traceback (most recent call last)",
      "Cell \u001B[1;32mIn[11], line 1\u001B[0m\n\u001B[1;32m----> 1\u001B[0m \u001B[43mfirst_100_rows\u001B[49m\u001B[38;5;241m.\u001B[39mshow(\u001B[38;5;241m40\u001B[39m)\n",
      "\u001B[1;31mNameError\u001B[0m: name 'first_100_rows' is not defined"
     ]
    }
   ],
   "execution_count": 11
  },
  {
   "metadata": {},
   "cell_type": "markdown",
   "source": "",
   "id": "cb61775bdd83e3ee"
  },
  {
   "metadata": {
    "ExecuteTime": {
     "end_time": "2024-11-16T14:40:38.706142Z",
     "start_time": "2024-11-16T14:40:38.706055Z"
    }
   },
   "cell_type": "code",
   "source": "df = df.repartition(40)",
   "id": "9caf0d8a067b59e8",
   "outputs": [],
   "execution_count": null
  },
  {
   "metadata": {
    "ExecuteTime": {
     "end_time": "2024-11-16T14:40:38.740185Z",
     "start_time": "2024-11-16T14:40:38.731164Z"
    }
   },
   "cell_type": "code",
   "source": "df.write.parquet('tripdate/2023/01/')",
   "id": "35cae0705d51669d",
   "outputs": [
    {
     "ename": "NameError",
     "evalue": "name 'df' is not defined",
     "output_type": "error",
     "traceback": [
      "\u001B[1;31m---------------------------------------------------------------------------\u001B[0m",
      "\u001B[1;31mNameError\u001B[0m                                 Traceback (most recent call last)",
      "Cell \u001B[1;32mIn[12], line 1\u001B[0m\n\u001B[1;32m----> 1\u001B[0m \u001B[43mdf\u001B[49m\u001B[38;5;241m.\u001B[39mwrite\u001B[38;5;241m.\u001B[39mparquet(\u001B[38;5;124m'\u001B[39m\u001B[38;5;124mtripdate/2023/01/\u001B[39m\u001B[38;5;124m'\u001B[39m)\n",
      "\u001B[1;31mNameError\u001B[0m: name 'df' is not defined"
     ]
    }
   ],
   "execution_count": 12
  }
 ],
 "metadata": {
  "kernelspec": {
   "display_name": "Python 3 (ipykernel)",
   "language": "python",
   "name": "python3"
  },
  "language_info": {
   "codemirror_mode": {
    "name": "ipython",
    "version": 3
   },
   "file_extension": ".py",
   "mimetype": "text/x-python",
   "name": "python",
   "nbconvert_exporter": "python",
   "pygments_lexer": "ipython3",
   "version": "3.12.6"
  }
 },
 "nbformat": 4,
 "nbformat_minor": 5
}
